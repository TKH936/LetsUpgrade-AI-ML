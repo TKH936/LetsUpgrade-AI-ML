{
  "nbformat": 4,
  "nbformat_minor": 0,
  "metadata": {
    "colab": {
      "name": "LetsUpgradeDay4",
      "provenance": []
    },
    "kernelspec": {
      "name": "python3",
      "display_name": "Python 3"
    }
  },
  "cells": [
    {
      "cell_type": "markdown",
      "metadata": {
        "id": "kMgfbOhOO8yl",
        "colab_type": "text"
      },
      "source": [
        "## Q**.1**"
      ]
    },
    {
      "cell_type": "code",
      "metadata": {
        "id": "DdCNFo07Peoj",
        "colab_type": "code",
        "colab": {}
      },
      "source": [
        "#Take two complex numbers\n",
        "c1 = 3 + 4j\n",
        "c2 = 19 + 12.5j\n",
        "#Addition\n",
        "add = c1 + c2\n",
        "print('Addition', add)\n",
        "#Subraction\n",
        "sub = c1 - c2\n",
        "print('Subtraction', sub)\n",
        "#Multiplication\n",
        "mul = c1*c2\n",
        "print('Multiplication', mul)\n",
        "#Division\n",
        "div = c1/c2\n",
        "print('Division', div)"
      ],
      "execution_count": null,
      "outputs": []
    },
    {
      "cell_type": "code",
      "metadata": {
        "id": "MqNsGsX9Q313",
        "colab_type": "code",
        "colab": {}
      },
      "source": [
        "#Floor division\n",
        "#It can't be performed for complex numbers\n",
        "#so it will throw an error\n",
        "flr = c1//c2"
      ],
      "execution_count": null,
      "outputs": []
    },
    {
      "cell_type": "code",
      "metadata": {
        "id": "pO-43VKYRYH4",
        "colab_type": "code",
        "colab": {}
      },
      "source": [
        "#Modulo also can't be performed for complex numbers\n",
        "#so it will throw an error\n",
        "mod = c1%c2"
      ],
      "execution_count": null,
      "outputs": []
    },
    {
      "cell_type": "markdown",
      "metadata": {
        "id": "mpSf_qCxRqtd",
        "colab_type": "text"
      },
      "source": [
        "## Q**.2**"
      ]
    },
    {
      "cell_type": "markdown",
      "metadata": {
        "id": "TbVEAjeaRwV4",
        "colab_type": "text"
      },
      "source": [
        "##RANGE Function\n",
        "It gives a range of values"
      ]
    },
    {
      "cell_type": "markdown",
      "metadata": {
        "id": "9kltIuGcULof",
        "colab_type": "text"
      },
      "source": [
        "Range is a inclusive function "
      ]
    },
    {
      "cell_type": "markdown",
      "metadata": {
        "id": "6XayhaKrVLH5",
        "colab_type": "text"
      },
      "source": [
        " i.e., range(n) -> it will give n values starting from 0 to n-1. n cannot be of float data type."
      ]
    },
    {
      "cell_type": "markdown",
      "metadata": {
        "id": "cPddPW4_VPE1",
        "colab_type": "text"
      },
      "source": [
        " In general it is expressed as:"
      ]
    },
    {
      "cell_type": "markdown",
      "metadata": {
        "id": "fsElrMXiVTUe",
        "colab_type": "text"
      },
      "source": [
        "range(start, stop, step(optional))"
      ]
    },
    {
      "cell_type": "code",
      "metadata": {
        "id": "HXe5YWHFVWKY",
        "colab_type": "code",
        "colab": {}
      },
      "source": [
        "#range function\n",
        "#example 1\n",
        "print(range(10))\n",
        "#example2\n",
        "print(range(3, 10, 2))"
      ],
      "execution_count": null,
      "outputs": []
    },
    {
      "cell_type": "markdown",
      "metadata": {
        "id": "SFDsIwaLV6Qn",
        "colab_type": "text"
      },
      "source": [
        "## Q**.3**"
      ]
    },
    {
      "cell_type": "code",
      "metadata": {
        "id": "ozB4OkxNWjTR",
        "colab_type": "code",
        "colab": {}
      },
      "source": [
        "#Two numbers\n",
        "a = 33\n",
        "b = 17\n",
        "sub = a - b\n",
        "if sub > 25:\n",
        "  print(a*b)\n",
        "else:\n",
        "  print(a/b)  "
      ],
      "execution_count": null,
      "outputs": []
    },
    {
      "cell_type": "markdown",
      "metadata": {
        "id": "1pVLb0i9XSJv",
        "colab_type": "text"
      },
      "source": [
        "## Q**.4**"
      ]
    },
    {
      "cell_type": "code",
      "metadata": {
        "id": "W5JH-DfXXY_f",
        "colab_type": "code",
        "colab": {}
      },
      "source": [
        "#a List\n",
        "lst = [1, 2, 3, 4, 5 ,6, 7, 8, 9, 10]\n",
        "for number in lst:\n",
        "  if number%2 == 0:\n",
        "    print(number**2 - 2)"
      ],
      "execution_count": null,
      "outputs": []
    },
    {
      "cell_type": "markdown",
      "metadata": {
        "id": "jlZyVMHhX6GA",
        "colab_type": "text"
      },
      "source": [
        "## Q**.5**"
      ]
    },
    {
      "cell_type": "code",
      "metadata": {
        "id": "jKjyKkwiYNfl",
        "colab_type": "code",
        "colab": {}
      },
      "source": [
        "#a List\n",
        "lst = [1, 29.5, 98, 102, 33.67, 22, 63, 88, 10, 7]\n",
        "for number in lst:\n",
        "  number1 = number/2\n",
        "  if number1 > 7:\n",
        "    print(number)"
      ],
      "execution_count": null,
      "outputs": []
    }
  ]
}