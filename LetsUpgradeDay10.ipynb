{
  "nbformat": 4,
  "nbformat_minor": 0,
  "metadata": {
    "colab": {
      "name": "LetsUpGradeDay10",
      "provenance": [],
      "collapsed_sections": []
    },
    "kernelspec": {
      "name": "python3",
      "display_name": "Python 3"
    }
  },
  "cells": [
    {
      "cell_type": "markdown",
      "metadata": {
        "id": "8gEeZ_J2EC21",
        "colab_type": "text"
      },
      "source": [
        "## **Q**.1"
      ]
    },
    {
      "cell_type": "code",
      "metadata": {
        "id": "A27ghaKZEmzV",
        "colab_type": "code",
        "colab": {}
      },
      "source": [
        "import numpy as np\n",
        "a = np.array([[1,2,99], [4,23,12]])\n",
        "b = np.array([[8,9,3], [11,7,12]])\n",
        "#Greater than\n",
        "a>b"
      ],
      "execution_count": null,
      "outputs": []
    },
    {
      "cell_type": "code",
      "metadata": {
        "id": "9c6w_Q-RE-Kv",
        "colab_type": "code",
        "colab": {}
      },
      "source": [
        "#Greater_equal\n",
        "a>=b"
      ],
      "execution_count": null,
      "outputs": []
    },
    {
      "cell_type": "code",
      "metadata": {
        "id": "_PG2EIr-GE0i",
        "colab_type": "code",
        "colab": {}
      },
      "source": [
        "#Less than\n",
        "a<b"
      ],
      "execution_count": null,
      "outputs": []
    },
    {
      "cell_type": "code",
      "metadata": {
        "id": "Zp3OL05RGKmg",
        "colab_type": "code",
        "colab": {}
      },
      "source": [
        "#less_equal\n",
        "a<=b"
      ],
      "execution_count": null,
      "outputs": []
    },
    {
      "cell_type": "markdown",
      "metadata": {
        "id": "n1pE_hxrGQoc",
        "colab_type": "text"
      },
      "source": [
        "## **Q**.2"
      ]
    },
    {
      "cell_type": "code",
      "metadata": {
        "id": "w57gIy9OGVLa",
        "colab_type": "code",
        "colab": {}
      },
      "source": [
        "import numpy as np\n",
        "arr0 = np.zeros(10, dtype = np.int)\n",
        "arr0"
      ],
      "execution_count": null,
      "outputs": []
    },
    {
      "cell_type": "code",
      "metadata": {
        "id": "DHXOU7cnG4yn",
        "colab_type": "code",
        "colab": {}
      },
      "source": [
        "arr1 = np.ones(10, dtype = np.int)\n",
        "arr1"
      ],
      "execution_count": null,
      "outputs": []
    },
    {
      "cell_type": "code",
      "metadata": {
        "id": "dw79blJ3HaJU",
        "colab_type": "code",
        "colab": {}
      },
      "source": [
        "arr5 = np.ones(10, dtype = np.int)*5\n",
        "arr5"
      ],
      "execution_count": null,
      "outputs": []
    },
    {
      "cell_type": "markdown",
      "metadata": {
        "id": "9Us4YmNDHgEK",
        "colab_type": "text"
      },
      "source": [
        "# Q.3"
      ]
    },
    {
      "cell_type": "code",
      "metadata": {
        "id": "3v62cScnHqHE",
        "colab_type": "code",
        "colab": {}
      },
      "source": [
        "import numpy as np\n",
        "#Given array\n",
        "a = np.array([[100,1,2], [43,99,12], [18,1,35]])"
      ],
      "execution_count": null,
      "outputs": []
    },
    {
      "cell_type": "code",
      "metadata": {
        "id": "4Fq63QqHH2S6",
        "colab_type": "code",
        "colab": {}
      },
      "source": [
        "#Sum of whole array\n",
        "a.sum()"
      ],
      "execution_count": null,
      "outputs": []
    },
    {
      "cell_type": "code",
      "metadata": {
        "id": "RRYh4IoYIBLl",
        "colab_type": "code",
        "colab": {}
      },
      "source": [
        "#Sum of each column\n",
        "a.sum(axis = 0)"
      ],
      "execution_count": null,
      "outputs": []
    },
    {
      "cell_type": "code",
      "metadata": {
        "id": "hto4qolAII-u",
        "colab_type": "code",
        "colab": {}
      },
      "source": [
        "#Sum of each row\n",
        "a.sum(axis = 1)"
      ],
      "execution_count": null,
      "outputs": []
    },
    {
      "cell_type": "markdown",
      "metadata": {
        "id": "6W1MBxw7ISDY",
        "colab_type": "text"
      },
      "source": [
        "## **Q**.4"
      ]
    },
    {
      "cell_type": "code",
      "metadata": {
        "id": "HefT2kMYJJdd",
        "colab_type": "code",
        "colab": {}
      },
      "source": [
        "import numpy as np\n",
        "#Sample inputs are 10.0, 23.0\n",
        "a = 10.0\n",
        "b = 23.0"
      ],
      "execution_count": 37,
      "outputs": []
    },
    {
      "cell_type": "code",
      "metadata": {
        "id": "dk6Ej9VmJU9D",
        "colab_type": "code",
        "colab": {}
      },
      "source": [
        "#Add\n",
        "Addition = np.add(a, b)\n",
        "Addition"
      ],
      "execution_count": null,
      "outputs": []
    },
    {
      "cell_type": "code",
      "metadata": {
        "id": "pTnDtjPuJcMh",
        "colab_type": "code",
        "colab": {}
      },
      "source": [
        "#Subtract\n",
        "Subtraction = np.subtract(a, b)\n",
        "Subtraction"
      ],
      "execution_count": null,
      "outputs": []
    },
    {
      "cell_type": "code",
      "metadata": {
        "id": "4Gh89fipJqlh",
        "colab_type": "code",
        "colab": {}
      },
      "source": [
        "#Multiply\n",
        "Multiplication = np.multiply(a, b)\n",
        "Multiplication"
      ],
      "execution_count": null,
      "outputs": []
    },
    {
      "cell_type": "code",
      "metadata": {
        "id": "1FXTqSzBKZRy",
        "colab_type": "code",
        "colab": {}
      },
      "source": [
        "#Divide\n",
        "Division = np.divide(a, b)\n",
        "Division"
      ],
      "execution_count": null,
      "outputs": []
    },
    {
      "cell_type": "markdown",
      "metadata": {
        "id": "93JctrXjKfXv",
        "colab_type": "text"
      },
      "source": [
        "## Q**.5**"
      ]
    },
    {
      "cell_type": "code",
      "metadata": {
        "id": "munOzmC6Knhc",
        "colab_type": "code",
        "colab": {}
      },
      "source": [
        "import numpy as np\n",
        "in_deg = 22.3"
      ],
      "execution_count": 44,
      "outputs": []
    },
    {
      "cell_type": "code",
      "metadata": {
        "id": "zdAmnmgzK4vN",
        "colab_type": "code",
        "colab": {
          "base_uri": "https://localhost:8080/",
          "height": 34
        },
        "outputId": "749a2ff4-1304-4940-afe9-493a92295cdb"
      },
      "source": [
        "np.sin(np.array([0, 30, 45, 60 ,90])*np.pi/180)"
      ],
      "execution_count": 50,
      "outputs": [
        {
          "output_type": "execute_result",
          "data": {
            "text/plain": [
              "array([0.        , 0.5       , 0.70710678, 0.8660254 , 1.        ])"
            ]
          },
          "metadata": {
            "tags": []
          },
          "execution_count": 50
        }
      ]
    },
    {
      "cell_type": "code",
      "metadata": {
        "id": "_OAw_so7K7PI",
        "colab_type": "code",
        "colab": {
          "base_uri": "https://localhost:8080/",
          "height": 51
        },
        "outputId": "c95ed46a-ca8f-46af-b7a8-f888a85f9c34"
      },
      "source": [
        "np.cos(np.array([0, 30, 45, 60 ,90])*np.pi/180)"
      ],
      "execution_count": 51,
      "outputs": [
        {
          "output_type": "execute_result",
          "data": {
            "text/plain": [
              "array([1.00000000e+00, 8.66025404e-01, 7.07106781e-01, 5.00000000e-01,\n",
              "       6.12323400e-17])"
            ]
          },
          "metadata": {
            "tags": []
          },
          "execution_count": 51
        }
      ]
    },
    {
      "cell_type": "code",
      "metadata": {
        "id": "WTEyxkIsK9vO",
        "colab_type": "code",
        "colab": {
          "base_uri": "https://localhost:8080/",
          "height": 51
        },
        "outputId": "56ca4b70-c895-47fd-c5b8-97e4d99f3265"
      },
      "source": [
        "np.tan(np.array([0, 30, 45, 60 ,90])*np.pi/180)"
      ],
      "execution_count": 52,
      "outputs": [
        {
          "output_type": "execute_result",
          "data": {
            "text/plain": [
              "array([0.00000000e+00, 5.77350269e-01, 1.00000000e+00, 1.73205081e+00,\n",
              "       1.63312394e+16])"
            ]
          },
          "metadata": {
            "tags": []
          },
          "execution_count": 52
        }
      ]
    },
    {
      "cell_type": "markdown",
      "metadata": {
        "id": "IZ4WHy4hLA_n",
        "colab_type": "text"
      },
      "source": [
        "## Q**.6**"
      ]
    },
    {
      "cell_type": "code",
      "metadata": {
        "id": "eOjUdnniLLK0",
        "colab_type": "code",
        "colab": {}
      },
      "source": [
        "import pandas as pd\n",
        "ddd = {'First':[1,2,3,4,5], 'Second':[6,7,8,9,10], 'Third':[11,12,13,14,15]}\n",
        "labels = ['a', 'b', 'c', 'd', 'e']"
      ],
      "execution_count": 53,
      "outputs": []
    },
    {
      "cell_type": "code",
      "metadata": {
        "id": "4wLEoEV7SdSB",
        "colab_type": "code",
        "colab": {}
      },
      "source": [
        "df = pd.DataFrame(ddd, index = labels)\n",
        "df"
      ],
      "execution_count": null,
      "outputs": []
    },
    {
      "cell_type": "markdown",
      "metadata": {
        "id": "j9-gziZcSjic",
        "colab_type": "text"
      },
      "source": [
        "## Q**.7**"
      ]
    },
    {
      "cell_type": "code",
      "metadata": {
        "id": "almrBPITSp2W",
        "colab_type": "code",
        "colab": {}
      },
      "source": [
        "import pandas as pd\n",
        "ddd = {'Name':['Virat', 'Rohit', 'Dhoni', 'Rishabh', 'Hardik'], 'Score':[11, 101, 54, 132, 65]}"
      ],
      "execution_count": 57,
      "outputs": []
    },
    {
      "cell_type": "code",
      "metadata": {
        "id": "_rotSvFGS-OW",
        "colab_type": "code",
        "colab": {}
      },
      "source": [
        "df = pd.DataFrame(ddd)\n",
        "df"
      ],
      "execution_count": null,
      "outputs": []
    },
    {
      "cell_type": "code",
      "metadata": {
        "id": "EJNYe3WITIDf",
        "colab_type": "code",
        "colab": {}
      },
      "source": [
        "#Selecting 'Name' column\n",
        "df['Name']"
      ],
      "execution_count": null,
      "outputs": []
    },
    {
      "cell_type": "code",
      "metadata": {
        "id": "RUNnuEsUTLjb",
        "colab_type": "code",
        "colab": {}
      },
      "source": [
        "#Selecting 'Score' column\n",
        "df['Score']"
      ],
      "execution_count": null,
      "outputs": []
    },
    {
      "cell_type": "markdown",
      "metadata": {
        "id": "ypd-B2AJTbzj",
        "colab_type": "text"
      },
      "source": [
        "## Q**.8**"
      ]
    },
    {
      "cell_type": "code",
      "metadata": {
        "id": "Zw9FHCoRT9l1",
        "colab_type": "code",
        "colab": {}
      },
      "source": [
        "import pandas as pd\n",
        "df1 = pd.DataFrame()\n",
        "df2 = pd.DataFrame()"
      ],
      "execution_count": 62,
      "outputs": []
    },
    {
      "cell_type": "code",
      "metadata": {
        "id": "o5xJQyLiUgyo",
        "colab_type": "code",
        "colab": {}
      },
      "source": [
        "#Joining two DataFrames\n",
        "df = pd.concat([df1, df2])\n",
        "df"
      ],
      "execution_count": null,
      "outputs": []
    },
    {
      "cell_type": "markdown",
      "metadata": {
        "id": "L2uDgj7TUm8j",
        "colab_type": "text"
      },
      "source": [
        "## Q**.9**"
      ]
    },
    {
      "cell_type": "code",
      "metadata": {
        "id": "L4AdOiriUrq4",
        "colab_type": "code",
        "colab": {}
      },
      "source": [
        "import pandas as pd\n",
        "df1 = pd.DataFrame()\n",
        "#Detect Null values\n",
        "df.isna()"
      ],
      "execution_count": null,
      "outputs": []
    },
    {
      "cell_type": "markdown",
      "metadata": {
        "id": "a3fcQMZeVD6w",
        "colab_type": "text"
      },
      "source": [
        "## **Q**.10"
      ]
    },
    {
      "cell_type": "code",
      "metadata": {
        "id": "SO4FeQdOVK24",
        "colab_type": "code",
        "colab": {}
      },
      "source": [
        "import pandas as pd\n",
        "s = pd.Series([1,2,3,4,5,6])\n",
        "s"
      ],
      "execution_count": null,
      "outputs": []
    }
  ]
}