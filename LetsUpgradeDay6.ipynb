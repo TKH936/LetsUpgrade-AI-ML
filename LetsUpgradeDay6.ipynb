{
  "nbformat": 4,
  "nbformat_minor": 0,
  "metadata": {
    "colab": {
      "name": "LetsUpgradeDay6",
      "provenance": [],
      "collapsed_sections": []
    },
    "kernelspec": {
      "name": "python3",
      "display_name": "Python 3"
    }
  },
  "cells": [
    {
      "cell_type": "markdown",
      "metadata": {
        "id": "QcC1AcSgXj4L",
        "colab_type": "text"
      },
      "source": [
        "## Q**.1**"
      ]
    },
    {
      "cell_type": "code",
      "metadata": {
        "id": "Aoe_pWrIXqeG",
        "colab_type": "code",
        "colab": {}
      },
      "source": [
        "#Input from user\n",
        "email = input('Enter your email - ')\n",
        "#For e.g., email = 'John@google.com'\n",
        "#splitting the string\n",
        "seperate = email.split('@')[1]\n",
        "#Getting the company name\n",
        "company_name = seperate.split('.')[0]\n",
        "print(company_name)"
      ],
      "execution_count": null,
      "outputs": []
    },
    {
      "cell_type": "markdown",
      "metadata": {
        "id": "-HcDnW-XYgBG",
        "colab_type": "text"
      },
      "source": [
        "## Q**.2**"
      ]
    },
    {
      "cell_type": "code",
      "metadata": {
        "id": "7ujoV2y3ZEks",
        "colab_type": "code",
        "colab": {}
      },
      "source": [
        "#Input from user\n",
        "inp = input('Enter a comma-seperated sequence - ')\n",
        "lst = [word for word in inp.split(',')]\n",
        "out = ','.join(sorted(lst))\n",
        "print(out)"
      ],
      "execution_count": null,
      "outputs": []
    },
    {
      "cell_type": "markdown",
      "metadata": {
        "id": "yAYl1pIoavx0",
        "colab_type": "text"
      },
      "source": [
        "## Q**.3**"
      ]
    },
    {
      "cell_type": "markdown",
      "metadata": {
        "id": "Kat13mYlayES",
        "colab_type": "text"
      },
      "source": [
        "## **Sets**"
      ]
    },
    {
      "cell_type": "markdown",
      "metadata": {
        "id": "T5ICDSoMbY6R",
        "colab_type": "text"
      },
      "source": [
        "A Set is an unordered collection data type that is iterable, mutable and has no duplicate elements\n"
      ]
    },
    {
      "cell_type": "markdown",
      "metadata": {
        "id": "4GKNwrYCbhEC",
        "colab_type": "text"
      },
      "source": [
        " In Python sets are written with curly brackets.\n"
      ]
    },
    {
      "cell_type": "markdown",
      "metadata": {
        "id": "7oKsK2fdbrNr",
        "colab_type": "text"
      },
      "source": [
        "For e.g.,"
      ]
    },
    {
      "cell_type": "code",
      "metadata": {
        "id": "Mw_gJuMIbwe9",
        "colab_type": "code",
        "colab": {}
      },
      "source": [
        "a = {1, 2, 3, 4, 4, 2, 5, 12}\n",
        "#Duplicate values won't be printed\n",
        "print(a)"
      ],
      "execution_count": null,
      "outputs": []
    },
    {
      "cell_type": "markdown",
      "metadata": {
        "id": "YQnQMcYQcF0d",
        "colab_type": "text"
      },
      "source": [
        "Note: Sets are unordered, so you cannot be sure in which order the items will appear."
      ]
    },
    {
      "cell_type": "markdown",
      "metadata": {
        "id": "E2oDuz0HcMrw",
        "colab_type": "text"
      },
      "source": [
        "**Looping** **over** **a** **set**"
      ]
    },
    {
      "cell_type": "code",
      "metadata": {
        "id": "x-U5lri3c4D3",
        "colab_type": "code",
        "colab": {}
      },
      "source": [
        "s = {'a', 'b', 'c', 'd', 'e', 'f', 'g'}\n",
        "for i in s:\n",
        "  print(i)"
      ],
      "execution_count": null,
      "outputs": []
    },
    {
      "cell_type": "markdown",
      "metadata": {
        "id": "wmW9rLCkdAeu",
        "colab_type": "text"
      },
      "source": [
        "**Is**  **'a'**  **in**  **set** **s** **?**"
      ]
    },
    {
      "cell_type": "code",
      "metadata": {
        "id": "Y1RtgS33dXJK",
        "colab_type": "code",
        "colab": {}
      },
      "source": [
        "print('a' in s)"
      ],
      "execution_count": null,
      "outputs": []
    },
    {
      "cell_type": "markdown",
      "metadata": {
        "id": "jYQ_F3QMdvWj",
        "colab_type": "text"
      },
      "source": [
        "**Adding** **new** **Element** **to** **set** **s** \n"
      ]
    },
    {
      "cell_type": "code",
      "metadata": {
        "id": "TKggSB1Sd91e",
        "colab_type": "code",
        "colab": {}
      },
      "source": [
        "#Using add function\n",
        "s.add('Tiger')\n",
        "print(s)\n",
        "#Using update function\n",
        "s.update(['Dog', 'Cat', 'Bear'])\n",
        "print(s)"
      ],
      "execution_count": null,
      "outputs": []
    },
    {
      "cell_type": "markdown",
      "metadata": {
        "id": "2YgKXjRTeDNK",
        "colab_type": "text"
      },
      "source": [
        "**Remove** **Items**"
      ]
    },
    {
      "cell_type": "code",
      "metadata": {
        "id": "gN32w10SfmVM",
        "colab_type": "code",
        "colab": {}
      },
      "source": [
        "#Using remove function\n",
        "s.remove('Tiger')\n",
        "#Using discard function\n",
        "s.discard('Dog')\n",
        "#Using pop function\n",
        "s.pop()\n",
        "print(s)"
      ],
      "execution_count": 11,
      "outputs": []
    },
    {
      "cell_type": "code",
      "metadata": {
        "id": "iQTieuJ_gV9K",
        "colab_type": "code",
        "colab": {}
      },
      "source": [
        "#Clear will empty the set\n",
        "b = {1, 2, 3, 4, 5}\n",
        "b.clear()\n",
        "print(b)\n",
        "#del will delete the set\n",
        "del b\n",
        "print(b)"
      ],
      "execution_count": null,
      "outputs": []
    },
    {
      "cell_type": "markdown",
      "metadata": {
        "id": "WfimdB87gz2f",
        "colab_type": "text"
      },
      "source": [
        "**Join** **two** **sets**"
      ]
    },
    {
      "cell_type": "code",
      "metadata": {
        "id": "5a00DNx_g7Dl",
        "colab_type": "code",
        "colab": {}
      },
      "source": [
        "x = {1, 2, 3}\n",
        "y = {'a', 'b' ,'c'}\n",
        "z = x.union(y)\n",
        "print(z)"
      ],
      "execution_count": null,
      "outputs": []
    },
    {
      "cell_type": "code",
      "metadata": {
        "id": "xgboiLH5hDsS",
        "colab_type": "code",
        "colab": {}
      },
      "source": [
        "x = {1, 2, 3}\n",
        "y = {'a', 'b', 'c'}\n",
        "x.update(y)\n",
        "print(x)"
      ],
      "execution_count": null,
      "outputs": []
    },
    {
      "cell_type": "markdown",
      "metadata": {
        "id": "gQrfV58fhT2d",
        "colab_type": "text"
      },
      "source": [
        "Many other things can be achieved using SETs like union, intersection, etc."
      ]
    },
    {
      "cell_type": "markdown",
      "metadata": {
        "id": "dzyKnnvrht5i",
        "colab_type": "text"
      },
      "source": [
        "## Q**.4**"
      ]
    },
    {
      "cell_type": "code",
      "metadata": {
        "id": "HIu0p1J5hw_R",
        "colab_type": "code",
        "colab": {}
      },
      "source": [
        "inp = input('Enter n-1 numbers ranging from 1 to n: ')\n",
        "#For e.g., inp = '1 2 4 6 3 7 8'\n",
        "lst = inp.split()\n",
        "lst = [int(i) for i in lst]\n",
        "sorted_lst = sorted(lst)\n",
        "new_lst = [x for x in range(min(sorted_lst), max(sorted_lst)+1) if x not in sorted_lst]\n",
        "print(' '.join(map(str, new_lst)))"
      ],
      "execution_count": null,
      "outputs": []
    },
    {
      "cell_type": "markdown",
      "metadata": {
        "id": "lQusL-UziR0M",
        "colab_type": "text"
      },
      "source": [
        "### Q**.5**"
      ]
    },
    {
      "cell_type": "code",
      "metadata": {
        "id": "4x_9N3tBiU2o",
        "colab_type": "code",
        "colab": {}
      },
      "source": [
        "inp = input('Enter the input list')\n",
        "#for e.g., inp = '12 24 35 24 88 120 155 88 120 155'\n",
        "new_lst = []\n",
        "for num in inp.split():\n",
        "  if num in new_lst:\n",
        "    pass#Duplicate elements will not be considered in the list\n",
        "  else:\n",
        "    new_lst.append(num)\n",
        "print(' '.join(new_lst))"
      ],
      "execution_count": null,
      "outputs": []
    },
    {
      "cell_type": "code",
      "metadata": {
        "id": "VgPmny3ii0Mk",
        "colab_type": "code",
        "colab": {}
      },
      "source": [
        ""
      ],
      "execution_count": null,
      "outputs": []
    }
  ]
}