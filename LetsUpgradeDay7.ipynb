{
  "nbformat": 4,
  "nbformat_minor": 0,
  "metadata": {
    "colab": {
      "name": "LetsUpgradeDay7",
      "provenance": [],
      "collapsed_sections": []
    },
    "kernelspec": {
      "name": "python3",
      "display_name": "Python 3"
    }
  },
  "cells": [
    {
      "cell_type": "markdown",
      "metadata": {
        "id": "WPr3NGrWrec5",
        "colab_type": "text"
      },
      "source": [
        "## **Q**.1"
      ]
    },
    {
      "cell_type": "code",
      "metadata": {
        "id": "FBiqe-sGv2X7",
        "colab_type": "code",
        "colab": {}
      },
      "source": [
        "fhand1 = open('file1.txt', 'r')\n",
        "fhand2 = open('file2.txt', 'a')\n",
        "for line in fhand1.read():\n",
        "  fhand2.write(line)\n",
        "fhand2.close()\n",
        "fhand1.close()  "
      ],
      "execution_count": null,
      "outputs": []
    },
    {
      "cell_type": "markdown",
      "metadata": {
        "id": "fcnn9Kc6u9bn",
        "colab_type": "text"
      },
      "source": [
        "## Q**.2**"
      ]
    },
    {
      "cell_type": "code",
      "metadata": {
        "id": "N2jhuo_WvLMg",
        "colab_type": "code",
        "colab": {}
      },
      "source": [
        "#Defining a dictionary\n",
        "ddd = {'a':4, 'b':63, 'c':15, 'd':19, 'e':37, 'f':98}\n",
        "num_large = -10000\n",
        "num_small = 10000\n",
        "#For largest number\n",
        "for i in ddd.values():\n",
        "  if i > num_large:\n",
        "    num_large = i\n",
        "print('Largest number in dictionary =', num_large)   \n",
        "#For smallest number\n",
        "for i in ddd.values():\n",
        "  if i < num_small:\n",
        "    num_small = i\n",
        "print('Smallest number in dictionary =', num_small)    \n",
        "\n",
        "\n",
        "\n"
      ],
      "execution_count": null,
      "outputs": []
    }
  ]
}