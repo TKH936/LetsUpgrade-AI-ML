{
  "nbformat": 4,
  "nbformat_minor": 0,
  "metadata": {
    "colab": {
      "name": "LetsUpgradeDay3.ipynb",
      "provenance": []
    },
    "kernelspec": {
      "name": "python3",
      "display_name": "Python 3"
    }
  },
  "cells": [
    {
      "cell_type": "markdown",
      "metadata": {
        "id": "5RZnYYgzDZ61",
        "colab_type": "text"
      },
      "source": [
        "## Q**.1**"
      ]
    },
    {
      "cell_type": "code",
      "metadata": {
        "id": "zS7TloaHCxvi",
        "colab_type": "code",
        "colab": {
          "base_uri": "https://localhost:8080/",
          "height": 34
        },
        "outputId": "b241b9f7-6ee9-4b9f-d70c-2b678415f5dc"
      },
      "source": [
        "#First complex number\n",
        "c1 = 3 + 4j\n",
        "#Second complex number\n",
        "c2 = 19.3 - 81j\n",
        "#Now subtracting the two complex numbers c1 and c2\n",
        "c = c1 - c2\n",
        "print(c) "
      ],
      "execution_count": 5,
      "outputs": [
        {
          "output_type": "stream",
          "text": [
            "(-16.3+85j)\n"
          ],
          "name": "stdout"
        }
      ]
    },
    {
      "cell_type": "markdown",
      "metadata": {
        "id": "P6VWoQAoD-K4",
        "colab_type": "text"
      },
      "source": [
        "## Q**.2**"
      ]
    },
    {
      "cell_type": "code",
      "metadata": {
        "id": "tbpOlpAbEAs7",
        "colab_type": "code",
        "colab": {
          "base_uri": "https://localhost:8080/",
          "height": 34
        },
        "outputId": "eed865bb-983d-4437-8af7-8211edcc4f5f"
      },
      "source": [
        "#The number\n",
        "n = 42\n",
        "#It's forth root\n",
        "r = (n)**0.25\n",
        "print(r)"
      ],
      "execution_count": 7,
      "outputs": [
        {
          "output_type": "stream",
          "text": [
            "2.5457298950218306\n"
          ],
          "name": "stdout"
        }
      ]
    },
    {
      "cell_type": "markdown",
      "metadata": {
        "id": "tjBC317cEvzm",
        "colab_type": "text"
      },
      "source": [
        "## Q**.3**"
      ]
    },
    {
      "cell_type": "code",
      "metadata": {
        "id": "LtLKr8KrEyIv",
        "colab_type": "code",
        "colab": {
          "base_uri": "https://localhost:8080/",
          "height": 51
        },
        "outputId": "bc542d68-11c2-4e14-eddd-4d989dd2ff64"
      },
      "source": [
        "#the two number are\n",
        "a = 3\n",
        "b = 4\n",
        "# the temporary variable is 't'\n",
        "t = None\n",
        "#program to swap to numbers\n",
        "t = a\n",
        "a = b\n",
        "b = t\n",
        "#printing the two numbers\n",
        "print(a)\n",
        "print(b)"
      ],
      "execution_count": 8,
      "outputs": [
        {
          "output_type": "stream",
          "text": [
            "4\n",
            "3\n"
          ],
          "name": "stdout"
        }
      ]
    },
    {
      "cell_type": "markdown",
      "metadata": {
        "id": "vtktcSZeFfZt",
        "colab_type": "text"
      },
      "source": [
        "## Q**.4**"
      ]
    },
    {
      "cell_type": "code",
      "metadata": {
        "id": "_aEQd75pFhqr",
        "colab_type": "code",
        "colab": {
          "base_uri": "https://localhost:8080/",
          "height": 51
        },
        "outputId": "c0057045-5101-4dbb-91e8-6c3626e31e89"
      },
      "source": [
        "# the two numbers are \n",
        "a = 19\n",
        "b = 23\n",
        "#program to swap them\n",
        "b = a + b\n",
        "a = b - a\n",
        "b = b - a\n",
        "#printing the two numbers\n",
        "print(a)\n",
        "print(b)"
      ],
      "execution_count": 9,
      "outputs": [
        {
          "output_type": "stream",
          "text": [
            "23\n",
            "19\n"
          ],
          "name": "stdout"
        }
      ]
    },
    {
      "cell_type": "markdown",
      "metadata": {
        "id": "pzdEBbjfGwVj",
        "colab_type": "text"
      },
      "source": [
        "## Q**.5**"
      ]
    },
    {
      "cell_type": "code",
      "metadata": {
        "id": "HtsSFsfiGydQ",
        "colab_type": "code",
        "colab": {
          "base_uri": "https://localhost:8080/",
          "height": 51
        },
        "outputId": "dd2f3d58-13ff-4b96-db09-7488140af4ce"
      },
      "source": [
        "#fahrenheit 'F'\n",
        "F = 50\n",
        "#from fahrenheit 'F' to celsius 'C'\n",
        "C = ((F - 32) * 5) / 9\n",
        "print(C)\n",
        "#from fahrenheit 'F' to Kelvin 'K'\n",
        "K = ((F - 32) * 5) / 9 + 273\n",
        "print(K)"
      ],
      "execution_count": 10,
      "outputs": [
        {
          "output_type": "stream",
          "text": [
            "10.0\n",
            "283.0\n"
          ],
          "name": "stdout"
        }
      ]
    },
    {
      "cell_type": "markdown",
      "metadata": {
        "id": "1fYRho9tIDKy",
        "colab_type": "text"
      },
      "source": [
        "## Q**.6**"
      ]
    },
    {
      "cell_type": "code",
      "metadata": {
        "id": "1Rxq5CyrIFO9",
        "colab_type": "code",
        "colab": {
          "base_uri": "https://localhost:8080/",
          "height": 187
        },
        "outputId": "3d41482d-cd2c-4b8d-fe23-ca96ebad9012"
      },
      "source": [
        "#int type\n",
        "i = 36\n",
        "print(type(i))\n",
        "#float type\n",
        "f = 3.69\n",
        "print(type(f))\n",
        "#string type\n",
        "s = 'xyz'\n",
        "print(type(s))\n",
        "#complex\n",
        "c = 3 + 4j\n",
        "print(type(c))\n",
        "#List\n",
        "lst = [1, 2, 3.4, 'a']\n",
        "print(type(lst))\n",
        "#Tuple\n",
        "t = (1, 2, 3.5, 'a')\n",
        "print(type(t))\n",
        "#Dictionary\n",
        "ddd = {1:'a', 2:'b', 3:'c'}\n",
        "print(type(ddd))\n",
        "#Set\n",
        "st = {1, 2, 2, 4, 3}\n",
        "print(type(st))\n",
        "#Boolean\n",
        "bln = True\n",
        "print(type(bln))\n",
        "#None\n",
        "nn = None\n",
        "print(type(nn))"
      ],
      "execution_count": 11,
      "outputs": [
        {
          "output_type": "stream",
          "text": [
            "<class 'int'>\n",
            "<class 'float'>\n",
            "<class 'str'>\n",
            "<class 'complex'>\n",
            "<class 'list'>\n",
            "<class 'tuple'>\n",
            "<class 'dict'>\n",
            "<class 'set'>\n",
            "<class 'bool'>\n",
            "<class 'NoneType'>\n"
          ],
          "name": "stdout"
        }
      ]
    }
  ]
}