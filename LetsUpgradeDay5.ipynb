{
  "nbformat": 4,
  "nbformat_minor": 0,
  "metadata": {
    "colab": {
      "name": "LetsUpgradeDay5",
      "provenance": []
    },
    "kernelspec": {
      "name": "python3",
      "display_name": "Python 3"
    }
  },
  "cells": [
    {
      "cell_type": "markdown",
      "metadata": {
        "id": "WjdEeC9dONS5",
        "colab_type": "text"
      },
      "source": [
        "## Q**.1**"
      ]
    },
    {
      "cell_type": "code",
      "metadata": {
        "id": "79Ikm8vqOW9v",
        "colab_type": "code",
        "colab": {}
      },
      "source": [
        "#First 20 non-even prime number\n",
        "num = 2\n",
        "n = 1\n",
        "#n <= 20 bcoz we want first 20 prime numbers\n",
        "while n <= 20:\n",
        "  num += 1 # Every number from 3 will be checked, if it's prime number or not\n",
        "  for i in range(2, num):\n",
        "    if num%i == 0:\n",
        "      break\n",
        "  else:\n",
        "    print(num, end = ' ')\n",
        "    n += 1 #Count will increase by 1 once we find a prime number \n"
      ],
      "execution_count": null,
      "outputs": []
    },
    {
      "cell_type": "markdown",
      "metadata": {
        "id": "tfRQT1-HP2_a",
        "colab_type": "text"
      },
      "source": [
        "### Q**.2**"
      ]
    },
    {
      "cell_type": "code",
      "metadata": {
        "id": "CITOT-wSb2xt",
        "colab_type": "code",
        "colab": {}
      },
      "source": [
        "#15 function of string\n",
        "def fifteen_functions():\n",
        "  str1 = 'LetsUpgradeBatch2'\n",
        "  print('str1 is Alphanumerical', str1.isalnum())\n",
        "\n",
        "  str2 = '369'\n",
        "  print('str2 contains digits', str2.isdigit())\n",
        "\n",
        "  str3 = '3.69'\n",
        "  print('str3 contains decimal', str3.isdecimal())\n",
        "\n",
        "  str4 = 'DarshanIngle'\n",
        "  print('all are alphabets in a str2', str4.isalpha())\n",
        "\n",
        "  str5 = 'python'\n",
        "  print('capitalize str5', str5.capitalize())\n",
        "\n",
        "  str6 = 'python'\n",
        "  print('Uppercase all characters', str6.upper())\n",
        "\n",
        "  str7 = 'JUPYTER'\n",
        "  print('Lower case all characters', str7.lower())\n",
        "\n",
        "  str8 = 'Darshan'\n",
        "  print(\"Count number of a's in str8\", str8.count('a'))\n",
        "\n",
        "  str9 = 'Darshan'\n",
        "  print(\"Find position is 'h' in str9\", str9.find('h'))\n",
        "\n",
        "  str10 = 'LetsUpgrade'\n",
        "  print(\"Does str10 start with 'Lets'\", str10.startswith('Lets'))\n",
        "\n",
        "  str11 = 'LetsUpgrade'\n",
        "  print(\"Does str11 end with 'ade'\", str11.endswith('ade'))\n",
        "\n",
        "  str12 = '     Python'\n",
        "  print('Remove all the left spaces from str12', str12.lstrip())\n",
        "\n",
        "  str13 = 'Python        '\n",
        "  print('Remove all the right spaces from str13', str13.rstrip())\n",
        "\n",
        "  str14 = '        Python       '\n",
        "  print('Remove all spaces from str14', str14.strip())\n",
        "\n",
        "  str15 = 'Comment'\n",
        "  print(\"Replace 'm' by 'i' \", str15.replace('m', 'i'))\n",
        "\n",
        "fifteen_functions()"
      ],
      "execution_count": null,
      "outputs": []
    },
    {
      "cell_type": "markdown",
      "metadata": {
        "id": "PpRIo07dkPxJ",
        "colab_type": "text"
      },
      "source": [
        "## Q**.3**"
      ]
    },
    {
      "cell_type": "code",
      "metadata": {
        "id": "hCStraxWkONt",
        "colab_type": "code",
        "colab": {}
      },
      "source": [
        "#Input from user\n",
        "inp1 = input('Input your 1st string here :')\n",
        "inp1 = inp1.strip().lower()\n",
        "\n",
        "inp2 = input('Input your 2nd string here :')\n",
        "inp2 = inp2.strip().lower()\n",
        "#for Palindrome\n",
        "if inp1 == inp2[::-1]:\n",
        "  print(inp1, 'and', inp2, 'are is Palindrome')\n",
        "#for Anagram\n",
        "elif sorted(inp1) == sorted(inp2):\n",
        "  print(inp1, 'and', inp2, 'are Anagram to each other')\n",
        "# neither Palidrome and Anagram\n",
        "else:\n",
        "  print('Neither Palidrome nor Anagram')\n",
        "\n",
        "  \n"
      ],
      "execution_count": null,
      "outputs": []
    },
    {
      "cell_type": "markdown",
      "metadata": {
        "id": "5mdGTmhqjMt3",
        "colab_type": "text"
      },
      "source": [
        "## Q**.4**"
      ]
    },
    {
      "cell_type": "code",
      "metadata": {
        "id": "E0hK0i5XjnS_",
        "colab_type": "code",
        "colab": {}
      },
      "source": [
        "inp = \"Dr. Darshan Ingle @AIML Trainer\"\n",
        "for character in inp:\n",
        "  if character.isalpha():\n",
        "    print(character.lower(), end = '')"
      ],
      "execution_count": null,
      "outputs": []
    }
  ]
}