{
  "nbformat": 4,
  "nbformat_minor": 0,
  "metadata": {
    "colab": {
      "name": "LetsUpgradeDay13",
      "provenance": [],
      "collapsed_sections": []
    },
    "kernelspec": {
      "name": "python3",
      "display_name": "Python 3"
    }
  },
  "cells": [
    {
      "cell_type": "markdown",
      "metadata": {
        "id": "-52fCxTSuAVv"
      },
      "source": [
        "## **STEP1**"
      ]
    },
    {
      "cell_type": "code",
      "metadata": {
        "id": "vJzJB3VhwPnu"
      },
      "source": [
        "import pandas as pd\n",
        "import matplotlib\n",
        "import matplotlib.pyplot as plt\n",
        "import io"
      ],
      "execution_count": 6,
      "outputs": []
    },
    {
      "cell_type": "markdown",
      "metadata": {
        "id": "1xbMosfFCnG4"
      },
      "source": [
        "### **STEP2**"
      ]
    },
    {
      "cell_type": "code",
      "metadata": {
        "id": "S5ET0K8vBdQJ"
      },
      "source": [
        "pd.__version__"
      ],
      "execution_count": null,
      "outputs": []
    },
    {
      "cell_type": "code",
      "metadata": {
        "id": "HrzGB9-tCbRl"
      },
      "source": [
        "matplotlib.__version__"
      ],
      "execution_count": null,
      "outputs": []
    },
    {
      "cell_type": "markdown",
      "metadata": {
        "id": "7NHKVgrFCs5R"
      },
      "source": [
        "## **STEP3**"
      ]
    },
    {
      "cell_type": "code",
      "metadata": {
        "id": "cBQFveMNpT43"
      },
      "source": [
        "#As I'm using Google colab\n",
        "from google.colab import files\n",
        "#Uploading the file in Goggle Colab\n",
        "uploaded = files.upload()"
      ],
      "execution_count": null,
      "outputs": []
    },
    {
      "cell_type": "code",
      "metadata": {
        "id": "_4ivBKU_toe8"
      },
      "source": [
        "df = pd.read_csv(io.BytesIO(uploaded['creditcard.csv'])) \n",
        "print(df.head())"
      ],
      "execution_count": null,
      "outputs": []
    },
    {
      "cell_type": "code",
      "metadata": {
        "id": "oyTMRRnQDO-L"
      },
      "source": [
        "df.shape"
      ],
      "execution_count": null,
      "outputs": []
    },
    {
      "cell_type": "code",
      "metadata": {
        "id": "xWej8Ip6AE65"
      },
      "source": [
        "df.info()"
      ],
      "execution_count": null,
      "outputs": []
    },
    {
      "cell_type": "code",
      "metadata": {
        "id": "CBvnaqXoC1r4"
      },
      "source": [
        "df['Amount'].describe()"
      ],
      "execution_count": null,
      "outputs": []
    },
    {
      "cell_type": "markdown",
      "metadata": {
        "id": "HFsp-m6dDvlJ"
      },
      "source": [
        "## **STEP4**"
      ]
    },
    {
      "cell_type": "code",
      "metadata": {
        "id": "HclQjGOZDUJe"
      },
      "source": [
        "df.isnull().any()"
      ],
      "execution_count": null,
      "outputs": []
    },
    {
      "cell_type": "code",
      "metadata": {
        "id": "bh9utzdhDkk8"
      },
      "source": [
        "#Number of null values in a column\n",
        "df.isnull().sum()"
      ],
      "execution_count": null,
      "outputs": []
    },
    {
      "cell_type": "markdown",
      "metadata": {
        "id": "S6cY0bUoViva"
      },
      "source": [
        "## **STEP5**"
      ]
    },
    {
      "cell_type": "code",
      "metadata": {
        "id": "NMEz798dS9kk"
      },
      "source": [
        "#In 'Class' column '0' is normal and '1' is fraud\n",
        "df['Class'].unique()"
      ],
      "execution_count": null,
      "outputs": []
    },
    {
      "cell_type": "code",
      "metadata": {
        "id": "5rXCG4MNVxCX"
      },
      "source": [
        "ddd = {\"'0'\" : 'Normal', \"'1'\" : 'Fraud'}\n",
        "for i in df['Class'].unique():\n",
        "  per = (df['Class'] == i).sum()/len(df)*100\n",
        "  print(\"%s = %.2f%%\"%(ddd[i], per))\n",
        "  "
      ],
      "execution_count": null,
      "outputs": []
    },
    {
      "cell_type": "markdown",
      "metadata": {
        "id": "V50gpvN4B1pe"
      },
      "source": [
        "## **STEP6**"
      ]
    },
    {
      "cell_type": "markdown",
      "metadata": {
        "id": "_mrMr32PPbs_"
      },
      "source": [
        "PLOT FOR OVERALL DATASET"
      ]
    },
    {
      "cell_type": "code",
      "metadata": {
        "id": "ysTpQb0jPApa",
        "outputId": "2e177979-17b9-44f6-9671-865e4544c39c",
        "colab": {
          "base_uri": "https://localhost:8080/",
          "height": 296
        }
      },
      "source": [
        "#Amount Transacted v/s time\n",
        "plt.plot(df['Time'], df['Amount'])\n",
        "plt.xlabel('Time')\n",
        "plt.ylabel('Amount')"
      ],
      "execution_count": 68,
      "outputs": [
        {
          "output_type": "execute_result",
          "data": {
            "text/plain": [
              "Text(0, 0.5, 'Amount')"
            ]
          },
          "metadata": {
            "tags": []
          },
          "execution_count": 68
        },
        {
          "output_type": "display_data",
          "data": {
            "image/png": "[encoded data removed]",
            "text/plain": [
              "<Figure size 432x288 with 1 Axes>"
            ]
          },
          "metadata": {
            "tags": [],
            "needs_background": "light"
          }
        }
      ]
    },
    {
      "cell_type": "code",
      "metadata": {
        "id": "tAXinQdoB59Y"
      },
      "source": [
        "#Amount transacted in frauds\n",
        "f = df[df['Class'] == \"'1'\"]\n",
        "f = f.reset_index()\n",
        "total_in_fraud = f['Amount'].sum()"
      ],
      "execution_count": 33,
      "outputs": []
    },
    {
      "cell_type": "markdown",
      "metadata": {
        "id": "kZi3_TJ3PVwA"
      },
      "source": [
        "PLOT FOR FRAUDS"
      ]
    },
    {
      "cell_type": "code",
      "metadata": {
        "id": "e7pqJwBNNy68",
        "outputId": "92afc0a9-a5e8-4004-c275-9fe9587f9b6a",
        "colab": {
          "base_uri": "https://localhost:8080/",
          "height": 296
        }
      },
      "source": [
        "#Amount Transacted v/s time\n",
        "plt.plot(f['Time'], f['Amount'])\n",
        "plt.xlabel('Time')\n",
        "plt.ylabel('Amount')"
      ],
      "execution_count": 66,
      "outputs": [
        {
          "output_type": "execute_result",
          "data": {
            "text/plain": [
              "Text(0, 0.5, 'Amount')"
            ]
          },
          "metadata": {
            "tags": []
          },
          "execution_count": 66
        },
        {
          "output_type": "display_data",
          "data": {
            "image/png": "[encoded data removed]",
            "text/plain": [
              "<Figure size 432x288 with 1 Axes>"
            ]
          },
          "metadata": {
            "tags": [],
            "needs_background": "light"
          }
        }
      ]
    },
    {
      "cell_type": "code",
      "metadata": {
        "id": "fBZkwV_tB6ct"
      },
      "source": [
        "#Normal Transaction \n",
        "n = df[df['Class'] == \"'0'\"]\n",
        "n = n.reset_index()\n",
        "total_in_normal = n['Amount'].sum() "
      ],
      "execution_count": 34,
      "outputs": []
    },
    {
      "cell_type": "markdown",
      "metadata": {
        "id": "iMDrD5lMPgNF"
      },
      "source": [
        "PLOT FOR NORMAL\n"
      ]
    },
    {
      "cell_type": "code",
      "metadata": {
        "id": "9yecUDdvO6bh",
        "outputId": "0220e675-fe59-4ed9-cdbe-b936a7596aea",
        "colab": {
          "base_uri": "https://localhost:8080/",
          "height": 296
        }
      },
      "source": [
        "#Amount Transacted v/s time\n",
        "#\n",
        "plt.plot(n['Time'], n['Amount'])\n",
        "plt.xlabel('Time')\n",
        "plt.ylabel('Amount')"
      ],
      "execution_count": 67,
      "outputs": [
        {
          "output_type": "execute_result",
          "data": {
            "text/plain": [
              "Text(0, 0.5, 'Amount')"
            ]
          },
          "metadata": {
            "tags": []
          },
          "execution_count": 67
        },
        {
          "output_type": "display_data",
          "data": {
            "image/png": "[encoded data removed]",
            "text/plain": [
              "<Figure size 432x288 with 1 Axes>"
            ]
          },
          "metadata": {
            "tags": [],
            "needs_background": "light"
          }
        }
      ]
    },
    {
      "cell_type": "code",
      "metadata": {
        "id": "5OK1FT9oB6or"
      },
      "source": [
        "#fraud trasaction relative to normal\n",
        "per = (total_in_fraud/total_in_normal)*100\n",
        "round(per, 2)"
      ],
      "execution_count": null,
      "outputs": []
    },
    {
      "cell_type": "code",
      "metadata": {
        "id": "WNRIHVQlB6_k"
      },
      "source": [
        "#fraud tractions relative to total\n",
        "per1 = (total_in_fraud/df['Amount'].sum())*100\n",
        "round(per1, 2)"
      ],
      "execution_count": null,
      "outputs": []
    },
    {
      "cell_type": "code",
      "metadata": {
        "id": "r79GLWi3LssG"
      },
      "source": [
        "#At what time max number for transctions are done?\n",
        "df1=df.groupby('Time')['Time'].value_counts()"
      ],
      "execution_count": 46,
      "outputs": []
    },
    {
      "cell_type": "code",
      "metadata": {
        "id": "tdJR33IMLtBI"
      },
      "source": [
        "time_in_sec = df1[df1 == df1.max()].index[0][0]"
      ],
      "execution_count": 57,
      "outputs": []
    },
    {
      "cell_type": "code",
      "metadata": {
        "id": "t9DQhsvELtH9",
        "outputId": "4468269a-4f18-438e-f558-8d497aff186c",
        "colab": {
          "base_uri": "https://localhost:8080/",
          "height": 34
        }
      },
      "source": [
        "time_in_hrs = round(((time_in_sec/60)/60), 2)\n",
        "print('At {} hr time, max number of transaction are done - {}'.format(time_in_hrs, df1.max()))"
      ],
      "execution_count": 61,
      "outputs": [
        {
          "output_type": "stream",
          "text": [
            "At 45.32 hr time, max number of transaction are done - 36\n"
          ],
          "name": "stdout"
        }
      ]
    },
    {
      "cell_type": "markdown",
      "metadata": {
        "id": "8ORFTfR3Tg6Y"
      },
      "source": [
        "DAY1 v/s DAY2 Analysis"
      ]
    },
    {
      "cell_type": "code",
      "metadata": {
        "id": "97kdA6TkTnm7"
      },
      "source": [
        "day_1 = df[df['Time']<= 86400].reset_index()\n",
        "day_2 = df[df['Time']>86400].reset_index()"
      ],
      "execution_count": 75,
      "outputs": []
    },
    {
      "cell_type": "code",
      "metadata": {
        "id": "biHDOcGUT61k"
      },
      "source": [
        "#Day1 has more transaction then Day2\n",
        "len(day_1) > len(day_2)"
      ],
      "execution_count": null,
      "outputs": []
    },
    {
      "cell_type": "code",
      "metadata": {
        "id": "mh2XFjx1UBA3",
        "outputId": "a35085d7-fe7b-4732-8205-5abb0c96323c",
        "colab": {
          "base_uri": "https://localhost:8080/",
          "height": 180
        }
      },
      "source": [
        "plt.plot(day_1['Time'], day_1['Amount'])\n",
        "plt.title('DAY1')"
      ],
      "execution_count": 85,
      "outputs": [
        {
          "output_type": "execute_result",
          "data": {
            "text/plain": [
              "Text(0.5, 1.0, 'DAY1')"
            ]
          },
          "metadata": {
            "tags": []
          },
          "execution_count": 85
        },
        {
          "output_type": "display_data",
          "data": {
            "image/png": "[encoded data removed]",
            "text/plain": [
              "<Figure size 432x288 with 1 Axes>"
            ]
          },
          "metadata": {
            "tags": [],
            "needs_background": "light"
          }
        }
      ]
    },
    {
      "cell_type": "code",
      "metadata": {
        "id": "wstLdVZqVyih",
        "outputId": "d27bc5d0-2c5f-46c0-e63e-6f4ffea85f45",
        "colab": {
          "base_uri": "https://localhost:8080/",
          "height": 180
        }
      },
      "source": [
        "plt.plot(day_2['Time'], day_2['Amount'])\n",
        "plt.title('DAY2')"
      ],
      "execution_count": 84,
      "outputs": [
        {
          "output_type": "execute_result",
          "data": {
            "text/plain": [
              "Text(0.5, 1.0, 'DAY2')"
            ]
          },
          "metadata": {
            "tags": []
          },
          "execution_count": 84
        },
        {
          "output_type": "display_data",
          "data": {
            "image/png": "[encoded data removed]",
            "text/plain": [
              "<Figure size 432x288 with 1 Axes>"
            ]
          },
          "metadata": {
            "tags": [],
            "needs_background": "light"
          }
        }
      ]
    },
    {
      "cell_type": "markdown",
      "metadata": {
        "id": "iLMHtRKzUYiD"
      },
      "source": [
        "## **STEP7**"
      ]
    },
    {
      "cell_type": "code",
      "metadata": {
        "id": "TNwx2sD8YYCq",
        "outputId": "db240fef-3503-44cc-e264-b1dbc37664cf",
        "colab": {
          "base_uri": "https://localhost:8080/",
          "height": 282
        }
      },
      "source": [
        "plt.hist(df['Amount'])\n",
        "import math\n",
        "min = math.floor(df['Amount'].min())\n",
        "max = math.ceil(df['Amount'].max())\n",
        "plt.xlim(min, max)"
      ],
      "execution_count": 103,
      "outputs": [
        {
          "output_type": "execute_result",
          "data": {
            "text/plain": [
              "(0.0, 25692.0)"
            ]
          },
          "metadata": {
            "tags": []
          },
          "execution_count": 103
        },
        {
          "output_type": "display_data",
          "data": {
            "image/png": "[encoded data removed]",
            "text/plain": [
              "<Figure size 432x288 with 1 Axes>"
            ]
          },
          "metadata": {
            "tags": [],
            "needs_background": "light"
          }
        }
      ]
    },
    {
      "cell_type": "code",
      "metadata": {
        "id": "eUtj3YehZo4J"
      },
      "source": [
        ""
      ],
      "execution_count": null,
      "outputs": []
    }
  ]
}