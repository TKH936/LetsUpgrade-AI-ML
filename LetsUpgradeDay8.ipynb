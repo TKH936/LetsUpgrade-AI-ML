{
  "nbformat": 4,
  "nbformat_minor": 0,
  "metadata": {
    "colab": {
      "name": "LetsUpgradeDay8",
      "provenance": [],
      "collapsed_sections": []
    },
    "kernelspec": {
      "name": "python3",
      "display_name": "Python 3"
    }
  },
  "cells": [
    {
      "cell_type": "markdown",
      "metadata": {
        "id": "5JxkYj1sHyZ9",
        "colab_type": "text"
      },
      "source": [
        "## Q**.1**"
      ]
    },
    {
      "cell_type": "markdown",
      "metadata": {
        "id": "7LWXzuRpHxdi",
        "colab_type": "text"
      },
      "source": [
        "## **Map** **Function**"
      ]
    },
    {
      "cell_type": "markdown",
      "metadata": {
        "id": "l41xUfWpINZ7",
        "colab_type": "text"
      },
      "source": [
        "The map() function executes a specified function for each item in an iterable. The item is sent to the function as a parameter."
      ]
    },
    {
      "cell_type": "markdown",
      "metadata": {
        "id": "oAnimT5BIN9O",
        "colab_type": "text"
      },
      "source": [
        "It's **SYNTAX**  map(function, iterables)\n",
        "\n"
      ]
    },
    {
      "cell_type": "markdown",
      "metadata": {
        "id": "Bd5tKbDfIOOU",
        "colab_type": "text"
      },
      "source": [
        "**For** **example**"
      ]
    },
    {
      "cell_type": "code",
      "metadata": {
        "id": "tVbFc2AIIOdd",
        "colab_type": "code",
        "colab": {}
      },
      "source": [
        "lst = ['1', '2', '3', '4', '5']\n",
        "#from str to int using map()\n",
        "a = map(int, lst)\n",
        "print(list(a))"
      ],
      "execution_count": null,
      "outputs": []
    },
    {
      "cell_type": "markdown",
      "metadata": {
        "id": "hh7Tu7h6KAie",
        "colab_type": "text"
      },
      "source": [
        "## **Lambda**"
      ]
    },
    {
      "cell_type": "markdown",
      "metadata": {
        "id": "TrgNQHA0KBND",
        "colab_type": "text"
      },
      "source": [
        "A lambda function is a single-line function declared with no name, which can have any number of arguments."
      ]
    },
    {
      "cell_type": "markdown",
      "metadata": {
        "id": "0vK7pzorKd2v",
        "colab_type": "text"
      },
      "source": [
        "It's **SYNTAX** lambda(function, iterables)"
      ]
    },
    {
      "cell_type": "markdown",
      "metadata": {
        "id": "P1DZW40gKBWy",
        "colab_type": "text"
      },
      "source": [
        "**For** **example**"
      ]
    },
    {
      "cell_type": "code",
      "metadata": {
        "id": "oMV-uSKNKBdh",
        "colab_type": "code",
        "colab": {}
      },
      "source": [
        "t = lambda x : x + 2 \n",
        "print(t(3))"
      ],
      "execution_count": null,
      "outputs": []
    },
    {
      "cell_type": "markdown",
      "metadata": {
        "id": "0AF9zvaRJJst",
        "colab_type": "text"
      },
      "source": [
        "## **Filter**"
      ]
    },
    {
      "cell_type": "markdown",
      "metadata": {
        "id": "37Yq7O_iJKL3",
        "colab_type": "text"
      },
      "source": [
        "The filter() method filters the given sequence with the help of a function that tests each element in the sequence to be true or not. "
      ]
    },
    {
      "cell_type": "markdown",
      "metadata": {
        "id": "FxmudK8gJKUV",
        "colab_type": "text"
      },
      "source": [
        "It's **SYNTAX** filter(function, iterable)"
      ]
    },
    {
      "cell_type": "markdown",
      "metadata": {
        "id": "GQWG7rCNJKcT",
        "colab_type": "text"
      },
      "source": [
        "**For** **Example**"
      ]
    },
    {
      "cell_type": "code",
      "metadata": {
        "id": "WYSUky0dJKim",
        "colab_type": "code",
        "colab": {}
      },
      "source": [
        "lst = [1, 2, 3, 4, 5, 6]\n",
        "b = filter(lambda x : x>3, lst)\n",
        "print(list(b))"
      ],
      "execution_count": null,
      "outputs": []
    },
    {
      "cell_type": "code",
      "metadata": {
        "id": "Bdp8nm1kLuTT",
        "colab_type": "code",
        "colab": {}
      },
      "source": [
        "x = map(lambda x:2*x, filter(lambda x: x>=3, [1,2,3,4]))\n",
        "print(list(x))"
      ],
      "execution_count": null,
      "outputs": []
    },
    {
      "cell_type": "code",
      "metadata": {
        "id": "JoCoErf5MI9b",
        "colab_type": "code",
        "colab": {}
      },
      "source": [
        "y = filter(lambda x:x>=3, map(lambda x:x+3, [1, 2, 3, 4]))\n",
        "print(list(y))"
      ],
      "execution_count": null,
      "outputs": []
    },
    {
      "cell_type": "markdown",
      "metadata": {
        "id": "rSgAtiV3-Pbx",
        "colab_type": "text"
      },
      "source": [
        "## Q**.2**"
      ]
    },
    {
      "cell_type": "markdown",
      "metadata": {
        "id": "QH5U7ke5-WWm",
        "colab_type": "text"
      },
      "source": [
        "## **Classes** **and** **Objects**"
      ]
    },
    {
      "cell_type": "markdown",
      "metadata": {
        "id": "4dafMHaV_rt8",
        "colab_type": "text"
      },
      "source": [
        "Python has been a object-oriented programming since it's Dawn.\n",
        "Because of this, using classes and objects is downright easy.\n",
        " Moving ahead let's get an idea of classes and objects."
      ]
    },
    {
      "cell_type": "markdown",
      "metadata": {
        "id": "YGLW0Qp1AUAO",
        "colab_type": "text"
      },
      "source": [
        "**Prototype** **of** **Class**"
      ]
    },
    {
      "cell_type": "code",
      "metadata": {
        "id": "hPINDUktAjIy",
        "colab_type": "code",
        "colab": {}
      },
      "source": [
        "class abc:\n",
        "  'Optional documentations can be done like this'\n",
        "  statm1\n",
        "  statm2\n",
        "  statm3"
      ],
      "execution_count": null,
      "outputs": []
    },
    {
      "cell_type": "markdown",
      "metadata": {
        "id": "Uk-zPyGxBAzX",
        "colab_type": "text"
      },
      "source": [
        "**An** **example**"
      ]
    },
    {
      "cell_type": "code",
      "metadata": {
        "id": "BFy2Ivs0BSa6",
        "colab_type": "code",
        "colab": {}
      },
      "source": [
        "class Employee:\n",
        "  pass\n",
        "emp_1 = Employee()\n",
        "emp_2 = Employee()\n",
        "print(emp_1)  \n",
        "print(emp_2)  "
      ],
      "execution_count": null,
      "outputs": []
    },
    {
      "cell_type": "code",
      "metadata": {
        "id": "ANh5GxmeCYOz",
        "colab_type": "code",
        "colab": {}
      },
      "source": [
        "class Employee:\n",
        "  def __init__(self, fname, lname, pay):\n",
        "    self.fname = fname\n",
        "    self.lname = lname\n",
        "    self.pay = pay\n",
        "    self.email = fname + lname + '@company.com'\n",
        "emp_1 = Employee('Mikkel', 'Kahnwald', 20000)\n",
        "emp_2 = Employee('Jonas', 'Kahnwald', 30000)\n",
        "print(emp_1.email)\n",
        "print(emp_2.fname)\n"
      ],
      "execution_count": null,
      "outputs": []
    },
    {
      "cell_type": "code",
      "metadata": {
        "id": "IHLbeHuaDbQi",
        "colab_type": "code",
        "colab": {}
      },
      "source": [
        "class Employee:\n",
        "  def __init__(self, fname, lname, pay):\n",
        "    self.fname = fname\n",
        "    self.lname = lname\n",
        "    self.pay = pay\n",
        "    self.email = fname + lname + '@company.com'\n",
        "\n",
        "#4% pay rise    \n",
        "    def pay_raise(self):\n",
        "    print(int(self.pay*1.04))  \n",
        "\n",
        "emp_1 = Employee('Mikkel', 'Kahnwald', 20000)\n",
        "emp_2 = Employee('Jonas', 'Kahnwald', 30000)\n",
        "\n",
        "print('Before pay raise', emp_1.pay)\n",
        "#Applying pay raise\n",
        "emp_1.pay_raise()\n",
        "print('With No pay raise', emp_2.pay)"
      ],
      "execution_count": null,
      "outputs": []
    },
    {
      "cell_type": "code",
      "metadata": {
        "id": "i09Jo9yFEh7C",
        "colab_type": "code",
        "colab": {}
      },
      "source": [
        "class PartyAnimal:\n",
        "  x = 0\n",
        "  \n",
        "  def __init__(self):\n",
        "    print(\"I'm constructed\")\n",
        "  def party(self):\n",
        "    self.x = self.x + 1 \n",
        "    print(self.x) \n",
        "  def __del__(self):\n",
        "    print(\"I'm destructed\", self.x)\n",
        "\n",
        "y = PartyAnimal()\n",
        "y.party()\n",
        "y.party()\n",
        "y = 58\n",
        "print('Value of y is', y)"
      ],
      "execution_count": null,
      "outputs": []
    },
    {
      "cell_type": "code",
      "metadata": {
        "id": "bEHve71zF85L",
        "colab_type": "code",
        "colab": {}
      },
      "source": [
        "class PartyAnimal:\n",
        "  x = 0\n",
        "  def __init__(self, name):\n",
        "    self.name = name\n",
        "    print('Welcome', self.name)\n",
        "  def party(self):\n",
        "    self.x = self.x + 1\n",
        "    print(self.x)\n",
        "\n",
        "class Football(PartyAnimal):\n",
        "  y = 8\n",
        "  def points(self):\n",
        "    self.y = self.y + 1\n",
        "    print(self.y)\n",
        "\n",
        "a = PartyAnimal('XYZ')\n",
        "a.party()\n",
        "b= Football('ZYX')\n",
        "b.points()\n",
        "b.party()"
      ],
      "execution_count": null,
      "outputs": []
    }
  ]
}